{
 "cells": [
  {
   "cell_type": "code",
   "execution_count": 22,
   "metadata": {},
   "outputs": [],
   "source": [
    "import shutil\n",
    "import sys\n",
    "import os\n",
    "from pathlib import Path\n",
    "import json\n",
    "import re"
   ]
  },
  {
   "cell_type": "code",
   "execution_count": 23,
   "metadata": {},
   "outputs": [],
   "source": [
    "root_path = Path('/home/jianghui/dataset/Hierachal-MovieNet/')\n",
    "img_root_path = Path(root_path, 'all/img/')\n",
    "shot_root_path = Path(root_path, 'all/shot/')\n",
    "scene_root_path = Path(root_path, 'all/scene/')\n",
    "subtitle_root_path = Path(root_path, 'all/subtitle/')\n",
    "synopsis_root_path = Path(root_path, 'all/synopsis/')\n",
    "cast_root_path = Path(root_path, 'all/cast/')\n",
    "subtitle_img_root_path = Path(root_path, 'all/subtitle_img/')\n",
    "names = locals()"
   ]
  },
  {
   "cell_type": "code",
   "execution_count": 24,
   "metadata": {},
   "outputs": [],
   "source": [
    "dest_path = Path('/home/jianghui/dataset/VideoReorder-MovieNet/')\n",
    "dest_all_path = Path(dest_path, 'all/')"
   ]
  },
  {
   "cell_type": "code",
   "execution_count": 25,
   "metadata": {},
   "outputs": [],
   "source": [
    "tt_list = []\n",
    "with open(Path(root_path, 'movie_id_list'), 'r') as f_tt_list:\n",
    "    for tt_line in f_tt_list:\n",
    "        tt_list.append(tt_line.replace('\\n', ''))"
   ]
  },
  {
   "cell_type": "code",
   "execution_count": 26,
   "metadata": {},
   "outputs": [],
   "source": [
    "def open_json(types:str, tt_id):\n",
    "    names[f'{types}_path'] = Path(names[f'{types}_root_path'], f'{tt_id}.json')\n",
    "    with open(names[f'{types}_path'], 'r') as names[f'f_{types}']:\n",
    "        names[f'{types}_json'] = json.load(names[f'f_{types}'])\n",
    "    return names[f'{types}_json']\n",
    "\n",
    "def save_json(types:str, tt_id):\n",
    "    names[f'{types}_path'] = Path(names[f'{types}_root_path'], f'{tt_id}.json')\n",
    "    with open(names[f'{types}_path'], 'w') as names[f'f_{types}']:\n",
    "        json.dump(names[f'{types}_json'], names[f'f_{types}'], indent=2)"
   ]
  },
  {
   "cell_type": "code",
   "execution_count": 46,
   "metadata": {},
   "outputs": [],
   "source": [
    "first = re.compile('\\d+(?=_)')\n",
    "second = re.compile('(?=_)\\d+')"
   ]
  },
  {
   "cell_type": "code",
   "execution_count": 58,
   "metadata": {},
   "outputs": [
    {
     "name": "stdout",
     "output_type": "stream",
     "text": [
      "processing tt0056923 ...\n",
      "[0, 0, 0, 0, 0, 0, 0, 0, 0, 0, 0, 0, 0, 0, 0, 0, 0, 0, 0, 0, 0, 0, 0, 0, 0, 0, 0, 0, 0, 0, 0, 0, 0, 0, 0, 0, 0, 0, 0, 0, 0, 0, 0, 0, 0, 0, 0, 0, 0, 0, 0, 0, 0, 0, 0, 0, 0, 0, 0, 0, 0, 0, 0, 0, 0, 0, 0, 0, 0, 0, 0, 0, 0, 0, 0, 0, 0, 0, 0, 0, 0, 0, 0, 0, 0, 0, 0, 0, 0, 0, 0, 0, 0, 0, 0, 0, 0, 0, 0, 0, 0, 0, 0, 0, 0, 0, 1, 1, 1, 1, 1, 1, 0, 1, 1, 1, 0, 1, 1, 1, 1, 1, 1, 1, 1, 1, 0, 1, 1, 1, 1, 1, 1, 1, 0, 1, 1, 0, 1, 1, 1, 0, 0, 0, 0, 0, 0, 0, 0, 0, 1, 1, 0, 1, 1, 1, 1, 1, 1, 1, 0, 1, 0, 1, 1, 1, 1, 1, 1, 1, 1, 1, 1, 1, 1, 1, 1, 1, 0, 1, 0, 0, 0, 0, 0, 1, 1, 1, 1, 0, 0, 0, 1, 0, 0, 0, 0, 0, 0, 0, 1, 0, 0, 1, 0, 0, 0, 0, 0, 0, 0, 0, 0, 0, 0, 0, 0, 0, 0, 0, 0, 1, 1, 1, 0, 0, 0, 0, 0, 0, 0, 0, 0, 0, 0, 0, 1, 0, 0, 0, 0, 1, 0, 0, 0, 0, 1, 0, 1, 0, 0, 1, 0, 1, 1, 1, 1, 1, 1, 1, 1, 1, 1, 1, 1, 0, 1, 1, 1, 1, 1, 1, 1, 1, 0, 1, 1, 1, 1, 1, 1, 0, 0, 0, 0, 0, 0, 0, 0, 1, 1, 1, 1, 0, 1, 1, 1, 1, 1, 1, 0, 0, 1, 1, 0, 0, 0, 0, 0, 0, 0, 0, 0, 0, 1, 1, 1, 1, 1, 1, 1, 1, 1, 1, 0, 0, 1, 0, 0, 1, 0, 1, 1, 1, 1, 1, 1, 1, 1, 0, 1, 1, 1, 0, 0, 0, 0, 0, 0, 0, 1, 1, 0, 0, 0, 1, 0, 0, 0, 0, 0, 0, 0, 0, 0, 1, 1, 0, 0, 0, 0, 0, 0, 0, 0, 0, 1, 1, 0, 0, 1, 0, 0, 0, 0, 0, 0, 0, 0, 0, 0, 0, 0, 0, 0, 0, 0, 0, 0, 0, 1, 1, 0, 0, 0, 0, 0, 0, 0, 0, 0, 0, 0, 0, 0, 0, 0, 0, 0, 0, 0, 0, 0, 0, 0, 0, 0, 0, 0, 0, 0, 0, 0, 0, 0, 0, 0, 0, 0, 0, 0, 0, 0, 0, 0, 1, 0, 1, 1, 1, 0, 0, 0, 0, 0, 0, 1, 1, 1, 0, 0, 0, 0, 0, 1, 1, 1, 1, 1, 1, 1, 1, 0, 1, 1, 1, 1, 0, 0, 1, 0, 1, 0, 0, 1, 1, 1, 1, 1, 0, 1, 1, 1, 1, 1, 1, 1, 1, 1, 1, 0, 1, 1, 0, 0, 1, 0, 1, 1, 1, 1, 1, 1, 1, 1, 1, 1, 1, 1, 1, 1, 1, 1, 1, 1, 1, 1, 1, 1, 1, 1, 1, 1, 1, 1, 1, 1, 1, 1, 1, 1, 1, 1, 1, 1, 0, 0, 1, 1, 1, 1, 1, 1, 1, 1, 1, 1, 1, 1, 1, 1, 1, 1, 1, 1, 1, 0, 0, 0, 0, 0, 0, 0, 0, 0, 0, 0, 0, 0, 0, 0, 0, 0, 0, 0, 0, 0, 0, 0, 1, 1, 1, 0, 0, 1, 1, 1, 1, 0, 1, 1, 1, 1, 0, 0, 0, 1, 1, 1, 0, 0, 0, 1, 1, 1, 1, 1, 1, 1, 0, 0, 0, 0, 0, 1, 0, 0, 1, 0, 0, 0, 1, 1, 1, 1, 1, 1, 1, 1, 1, 1, 1, 1, 0, 0, 0, 0, 0, 0, 0, 0, 0, 0, 0, 0, 0, 0, 0, 0, 0, 0, 0, 0, 0, 0, 0, 0, 0, 1, 0, 0, 0, 0, 0, 0, 0, 0, 0, 0, 0, 0, 0, 0, 0, 0, 0, 0, 0, 0, 0, 0, 0, 1, 1, 1, 1, 1, 1, 1, 1, 1, 1, 1, 0, 0, 0, 0, 1, 1, 1, 0, 0, 0, 0, 0, 0, 0, 1, 1, 1, 1, 0, 0, 0, 1, 0, 0, 0, 1, 1, 0, 1, 1, 1, 1, 0, 0, 0, 0, 0, 0, 0, 0, 1, 0, 1, 1, 0, 0, 1, 1, 1, 1, 1, 1, 1, 1, 1, 1, 1, 0, 0, 1, 1, 1, 1, 1, 1, 0, 0, 0, 0, 0, 0, 0, 1, 1, 0, 0, 0, 0, 0, 0, 0, 0, 0, 0, 0, 1, 1, 1, 0, 0, 0, 1, 1, 0, 0, 0, 0, 0, 0, 0, 0, 0, 0, 0, 0, 0, 1, 1, 1, 1, 1, 1, 1, 0, 0, 0, 0, 0, 0, 0, 0, 0, 0, 0, 0, 0, 0, 0, 0, 1, 0, 0, 0, 0, 0, 0, 0, 1, 1, 1, 1, 1, 1, 1, 1, 1, 0, 1, 1, 1, 1, 1, 1, 1, 1, 1, 1, 0, 1, 1, 1, 1, 1, 0, 0, 0, 0, 0, 0, 0, 1, 0, 0, 0, 0, 1, 1, 1, 0, 1, 0, 0, 0, 1, 1, 0, 1, 1, 1, 1, 1, 0, 0, 1, 1, 0, 0, 0, 0, 0, 1, 0, 1, 1, 0, 1, 1, 1, 1, 1, 0, 1, 1, 1, 0, 1, 0, 0, 0, 0, 0, 0, 0, 0, 0, 0, 0, 1, 1, 1, 0, 0, 0, 1, 1, 1, 1, 0, 1, 1, 1, 1, 1, 0, 0, 0, 0, 0, 0, 0, 0, 0, 0, 0, 0, 0, 0, 0, 0, 0, 0, 0, 0, 0, 0, 0, 0, 0, 0, 0, 0, 1, 0, 0, 0, 0, 0, 0, 1, 0, 0, 1, 1, 1, 1, 1, 1, 0, 1, 1, 1, 1, 1, 1, 1, 1, 1, 1, 0, 0, 0, 1, 1, 1, 1, 1, 1, 1, 1, 1, 1, 1, 1, 1, 1, 1, 1, 0, 0, 0, 1, 0, 0, 0, 0, 0, 0, 0, 0, 0, 0, 0, 0, 0, 0, 0, 0, 0, 0, 0, 0, 0, 1, 1, 0, 0, 0, 0, 1, 1, 0, 0, 0, 0, 0, 0, 1, 1, 1, 0, 0, 0, 1, 0, 0, 0, 0, 0, 0, 0, 0, 0, 0, 0, 0, 0, 0, 1, 1, 0, 0, 0, 1, 1, 1, 1, 0, 0, 0, 1, 0, 1, 1, 1, 1, 1, 1, 1, 0, 0, 1, 1, 1, 1, 1, 1, 1, 0, 0, 0, 1, 1, 0, 1, 0, 0, 1, 1, 1, 0, 0, 0, 0, 0, 1, 0, 0, 0, 0, 0, 0, 0, 0, 0, 0, 1, 0, 0, 1, 0, 0, 0, 0, 0, 0, 1, 0, 0, 0, 0, 1, 0, 0, 0, 1, 1, 1, 1, 1, 1, 1, 0, 0, 0, 0, 0, 0, 1, 1, 0, 1, 0, 0, 0, 0, 0, 0, 0, 0, 0, 0, 0, 0, 0, 0, 0, 0, 0, 0, 0, 0, 0, 0, 0, 0, 0, 0, 0, 0, 0, 0, 0, 0, 0, 0, 0, 0, 0, 0, 0, 0, 0, 0, 0, 0, 0, 0, 0, 0, 0, 0, 0, 0, 0, 0, 0, 0, 0, 0, 0, 0, 0, 0, 0, 0, 0, 0, 0, 0, 0, 0, 0, 0, 0, 0, 0, 0, 0, 0, 0, 0, 0, 0, 0, 0, 0, 0, 0, 0, 0, 0, 0, 0, 0, 0, 0, 0, 0, 0, 0, 0, 0, 0, 0, 0, 0, 0, 0, 0, 0, 0, 0, 0, 0, 0, 1, 0, 0, 0, 1, 1, 0, 0, 1, 0, 0, 0, 1, 1, 1, 0, 0, 1, 1, 1, 1, 1, 1, 1, 1, 1, 1, 1, 1, 1, 1, 0, 0, 1, 1, 1, 0, 1, 0, 0, 1, 0, 0, 1, 1, 1, 1, 1, 1, 1, 1, 1, 1, 1, 1, 1, 1, 1, 1, 1, 1, 1, 1, 1, 1, 1, 1, 1, 1, 1, 1, 1, 0, 1, 1, 1, 1, 1, 1, 1, 1, 1, 1, 1, 1, 1, 1, 1, 1, 1, 1, 1, 1, 1, 0, 1, 1, 0, 1, 1, 0, 1, 1, 1, 1, 1, 1, 1, 0, 0, 1, 1, 0, 1, 1, 1, 1, 1, 1, 1, 1, 1, 1, 1, 1, 0, 0, 1, 0, 1, 1, 1, 1, 1, 0, 1, 1, 1, 0, 1, 0, 0, 0, 0, 0, 0, 0, 0, 0, 0, 1, 1, 0, 0, 0, 0, 0, 1, 0, 0, 0, 0, 0, 0, 0, 0, 0, 0, 0, 1, 0, 0, 0, 0, 0, 0, 1, 0, 1, 1, 0, 1, 1, 1, 1, 1, 0, 0, 0, 0, 0, 0, 1, 1, 1, 1, 1, 1, 1, 1, 1, 1, 1, 0, 1, 1, 1, 1, 1, 1, 1, 1, 1, 0, 0, 0, 1, 1, 1, 1, 1, 1, 1, 1, 1, 1, 1, 1, 1, 1, 1, 1, 1, 1, 1, 1, 1, 1, 0, 0, 0, 1, 1, 1, 1, 1, 1, 1, 1, 1, 0, 0, 0, 0, 0, 0, 0, 1, 0, 0, 1, 1, 1, 1, 0, 1, 1, 1, 1, 1, 0, 1, 1, 0, 0, 0, 0, 0, 0, 0, 0, 1, 0, 1, 1, 1, 0, 1, 1, 1, 0, 0, 1, 0, 1, 0, 0, 0, 1, 1, 0, 1, 1, 1, 1, 1, 1, 0, 0, 1, 1, 1, 0, 0, 0, 1, 1, 0, 1, 1, 1, 1, 0, 0, 0, 0, 1, 1, 1, 1, 0, 1, 1, 1, 1, 0, 1, 0, 1, 1, 1, 1, 1, 1, 1, 1, 1, 1, 0, 1, 1, 1, 1, 1, 1, 0, 1, 1, 1, 1, 1, 1, 1, 1, 1, 1, 1, 1, 1, 1, 1, 1, 1, 0, 0, 0, 0, 0, 1, 1, 1, 0, 0, 0, 1, 1, 0, 0, 1, 1, 1, 1, 1, 1, 0, 0, 0, 0, 0, 1, 1, 0, 0, 0, 0, 0, 0, 0, 0, 0, 0, 1, 0, 0, 1, 0, 0, 0, 0, 0, 0, 0, 1, 1, 1, 1, 0, 0, 1, 1, 1, 1, 1, 1, 1, 0, 1, 1, 1, 1, 0, 0, 0, 1, 1, 1, 1, 1, 0, 0, 0, 0, 1, 1, 1, 1, 1, 1, 1, 1, 1, 1, 1, 1, 1, 0, 1, 0, 0, 1, 0, 0, 1, 0, 1, 1, 1, 0, 1, 0, 0, 1, 0, 0, 1, 1, 1, 0, 0, 0, 1, 1, 0, 1, 1, 1, 1, 0, 0, 1, 1, 1, 0, 0, 0, 0, 0, 0, 0, 0, 0, 1, 1, 1, 1, 1, 1, 1, 1, 1, 0, 1, 1, 1, 1, 1, 1, 1, 0, 0, 0, 0, 0, 0, 0, 1, 0, 0, 1, 1, 1, 1, 0, 1, 0, 0, 0, 0, 0, 0, 0, 0, 0, 0, 0, 0, 0, 0, 0, 0, 0, 0, 0, 0, 0, 0, 0, 0, 0, 0, 0, 0, 0, 0, 0, 0, 0, 0, 1, 1, 0, 0, 0, 1, 1, 0, 0, 0, 0, 0, 0, 0, 0, 0, 0, 0, 0, 0, 0, 0, 0, 0, 0, 0, 0, 0, 0, 0, 0, 0, 0, 0, 0, 0, 0, 0, 0, 0, 0, 0, 0, 0, 0, 0, 0, 0, 0, 0, 0, 0, 0, 0, 0, 0, 0, 0, 0, 0, 0, 0, 0, 0, 0, 0, 0, 0, 0, 0, 0, 0, 0, 0, 0, 0, 0, 0, 0, 0, 1, 1, 0, 0, 0, 0, 0, 0, 1, 1, 1, 1, 1, 1, 0, 0, 1, 0, 1, 1, 1, 0, 0, 1, 1, 1, 0, 1, 1, 1, 0, 0, 0, 0, 1, 1, 0, 0, 0, 0, 0, 1, 1, 0, 0, 0, 0, 0, 1, 1, 0, 1, 1, 1, 0, 0, 1, 0, 0, 1, 0, 0, 0, 0, 1, 1, 0, 1, 1, 1, 0, 1, 1, 1, 1, 1, 1, 1, 1, 0, 1, 1, 1, 1, 1, 1, 1, 1, 1, 1, 1, 1, 1, 1, 0, 0, 0, 1, 1, 1, 1, 1, 0, 0, 1, 1, 1, 1, 0, 1, 0, 0, 0, 0, 0, 0, 0, 0, 0, 0, 0, 0, 0, 0, 0, 0, 0, 0, 0, 0, 0, 0, 0, 0, 0, 0, 0, 0, 0, 0, 0, 0, 0, 0, 1, 1, 0, 1, 1, 1, 0, 1, 1, 1, 1, 1, 1, 1, 1, 0, 0, 0, 0, 0, 0, 0, 0, 1, 1, 1, 1, 1, 0, 0, 0, 0, 0, 0, 0, 0, 0, 0, 0, 0, 0, 0, 0, 0, 0, 0, 0, 0, 0, 0, 0, 0, 0, 0, 0, 0, 0, 0, 0, 0, 0, 1, 0, 0, 0, 0, 0, 0, 0, 0, 0, 0, 0, 0, 0, 0, 0, 0, 0, 0, 0, 0, 0, 0, 0, 0, 0, 0, 0, 0, 0, 0, 0, 0, 0, 0, 0, 0, 0, 0, 0, 0, 0, 0, 0, 0, 0, 0, 0, 0, 0, 0, 0, 0, 0, 0, 0, 0, 0, 0, 0, 0, 0, 0, 0, 0, 0, 0, 0, 0, 0, 0, 0, 0, 0, 0, 0, 0, 0, 0, 0, 0, 0, 0, 0, 0, 0, 0, 0, 0, 0, 0, 0, 0, 0, 0, 0, 0, 0, 0, 0, 0, 0, 0, 0, 0, 0, 0, 0, 0, 0, 0, 0, 0, 0, 0, 0, 0, 0, 0, 0, 0, 0, 0, 0, 0, 0, 0, 0, 0, 0, 0, 0, 0, 0, 0, 0, 0, 0, 0, 0, 0, 0, 1, 0, 0, 0, 0, 0, 0, 0, 0, 0, 0, 1, 1, 1, 1, 1, 1, 1, 1, 1, 0, 0, 0, 0, 0, 0, 0, 0, 0, 0, 0, 0, 0, 0, 0, 0, 0, 0, 0, 0, 0, 0, 0, 0, 0, 0, 0, 0, 0, 1, 1, 1, 1, 1, 1, 1, 0, 0, 0, 0, 0, 0, 0, 0, 0, 0, 0, 0, 0, 0, 0, 0, 0, 0, 0, 0, 0, 0, 0, 0, 0, 0, 0, 0, 0, 0, 0, 0, 0, 0, 0, 0, 0, 0, 0, 0, 0, 0, 0, 0, 0, 0, 0, 0, 0, 0, 0, 0, 0, 0, 0, 0, 0, 0, 0, 0, 1, 1, 0, 0, 1, 0, 0, 1, 1, 1, 1, 1, 1, 1, 1, 1, 1, 1, 1, 1, 1, 1, 1, 1, 0, 0, 0, 1, 1, 1, 1, 1, 1, 1, 1, 1, 1, 1, 0, 1, 1, 0, 0, 0, 1, 1, 0, 0, 0, 0, 0, 0, 0, 0, 0, 0, 0, 0, 0, 0, 0, 0, 0, 0, 0, 0, 0, 0, 0, 0, 0, 0, 0, 0, 0, 0, 0, 0, 0, 0, 0, 0, 0, 0, 0, 0, 0, 0, 0, 0, 0, 0, 0, 0, 0, 0, 0, 0, 0, 0, 0, 0, 0, 0, 0, 0, 0, 0, 0, 0, 0, 0, 0, 0, 0, 0, 0, 0, 0, 0, 0, 0, 0, 0, 0, 0, 0, 0, 0, 0, 0, 0, 0, 0, 0, 0, 0, 0, 0, 0, 0, 0, 0, 0, 0, 0, 0, 0, 0, 0, 0, 0, 0, 0, 0, 0, 0, 0, 0, 0, 0, 0, 0, 0, 0, 0, 0, 0, 0, 0, 0, 0, 1, 1, 0, 0, 0, 0, 0, 0, 0, 0, 0, 0, 0, 0, 0, 0, 0, 0, 0, 0, 0, 0, 0, 0, 0, 1, 0, 0, 0, 0, 0, 0, 0, 1, 0, 0, 0, 0, 0, 0, 0, 0, 1, 0, 0, 0, 0, 0, 0, 0, 0, 0, 0, 0, 0, 0, 0, 0, 0, 0, 0, 0, 0, 0, 0, 0, 0, 0, 0, 0, 0, 0, 0, 0, 0, 0, 0, 0, 0, 0, 0, 0, 0, 0, 0, 0, 0, 0, 1, 0, 0, 0, 0, 0, 0, 0, 0, 0, 0, 0, 0, 0, 0, 0, 0, 0, 0, 0, 0, 0, 0, 0, 0, 0, 0, 0, 0, 0, 0, 0, 0, 0, 0, 0, 0, 0, 0, 0, 0, 0, 0, 1, 1, 1, 0, 1, 1, 1, 0, 0, 1, 1, 1, 1, 1, 0, 0, 0, 0, 0, 0, 0, 0, 0, 0, 0, 0, 1, 1, 1, 1, 1, 1, 1, 0, 1, 1, 1, 1, 1, 1, 1, 1, 1, 1, 1, 0, 1, 0, 1, 0, 0, 0, 1, 1, 1, 1, 1, 1, 1, 1, 0]\n",
      "img_list is \n",
      " [[105, 115], [116, 135], [149, 159], [160, 179], [250, 269], [270, 281], [288, 299], [312, 323], [328, 338], [462, 471], [483, 502], [504, 523], [524, 543], [544, 563], [593, 602], [629, 643], [690, 702], [745, 760], [838, 848], [849, 866], [903, 912], [935, 945], [983, 1002], [1003, 1022], [1091, 1100], [1300, 1319], [1328, 1347], [1348, 1367], [1368, 1387], [1389, 1399], [1400, 1415], [1416, 1425], [1464, 1473], [1478, 1490], [1491, 1501], [1502, 1521], [1527, 1537], [1547, 1557], [1585, 1594], [1613, 1622], [1623, 1635], [1636, 1655], [1672, 1681], [1710, 1722], [1738, 1754], [1797, 1807], [2010, 2029], [2030, 2041], [2043, 2053], [2090, 2105], [2302, 2312], [2413, 2432], [2434, 2446], [2716, 2725], [2737, 2756], [2762, 2771]] \n",
      " len is 56\n"
     ]
    },
    {
     "ename": "AssertionError",
     "evalue": "",
     "output_type": "error",
     "traceback": [
      "\u001b[0;31m---------------------------------------------------------------------------\u001b[0m",
      "\u001b[0;31mAssertionError\u001b[0m                            Traceback (most recent call last)",
      "Cell \u001b[0;32mIn[58], line 60\u001b[0m\n\u001b[1;32m     58\u001b[0m \u001b[39mif\u001b[39;00m DEBUG: \u001b[39mprint\u001b[39m(\u001b[39m\"\u001b[39m\u001b[39mimg_list is \u001b[39m\u001b[39m\\n\u001b[39;00m\u001b[39m\"\u001b[39m,img_list, \u001b[39m\"\u001b[39m\u001b[39m\\n\u001b[39;00m\u001b[39m\"\u001b[39m, \u001b[39m\"\u001b[39m\u001b[39mlen is\u001b[39m\u001b[39m\"\u001b[39m, \u001b[39mlen\u001b[39m(img_list))\n\u001b[1;32m     59\u001b[0m total_group \u001b[39m+\u001b[39m\u001b[39m=\u001b[39m \u001b[39mlen\u001b[39m(img_list)\n\u001b[0;32m---> 60\u001b[0m \u001b[39massert\u001b[39;00m \u001b[39mFalse\u001b[39;00m\n\u001b[1;32m     62\u001b[0m \u001b[39mfor\u001b[39;00m idx, img_list_ele \u001b[39min\u001b[39;00m \u001b[39menumerate\u001b[39m(img_list):\n\u001b[1;32m     63\u001b[0m     file_name \u001b[39m=\u001b[39m img_group_idx\n",
      "\u001b[0;31mAssertionError\u001b[0m: "
     ]
    }
   ],
   "source": [
    "DEBUG = True\n",
    "\n",
    "img_group_idx = 0 # the folder name id\n",
    "total_group = 0\n",
    "\n",
    "for tt_id in (tt_list if not DEBUG else ['tt0056923']):\n",
    "    print(f'processing {tt_id} ...')\n",
    "    shot_json = open_json('shot', tt_id)\n",
    "    subtitle_img_json = open_json('subtitle_img', tt_id)\n",
    "\n",
    "    # gain img select in shot\n",
    "    img_subtitle_paired = []\n",
    "    for subtitle_img_json_ele in subtitle_img_json:\n",
    "        if subtitle_img_json_ele['sentence'] == [] or subtitle_img_json_ele['sentence'] == [\"\"]:\n",
    "            img_subtitle_paired.append(0)\n",
    "        else:\n",
    "            img_subtitle_paired.append(1)\n",
    "\n",
    "    if DEBUG: print(img_subtitle_paired)\n",
    "\n",
    "    img_num = 0\n",
    "    img_list = []\n",
    "    img_list_ele = []\n",
    "    old_img_num = len(subtitle_img_json)\n",
    "    rate_boundary = 0.8\n",
    "\n",
    "    i = 0 # 10 <= j -i + 1 <= 20\n",
    "    while i < old_img_num - 9:\n",
    "        \n",
    "        j = i + 9\n",
    "        tmp_rate = sum(img_subtitle_paired[i: (j+1)]) / 10.0\n",
    "        if tmp_rate < rate_boundary:\n",
    "            i += 1\n",
    "            continue\n",
    "\n",
    "        j += 1\n",
    "        last_j = 0\n",
    "        while j < old_img_num:\n",
    "\n",
    "            tmp_rate = sum(img_subtitle_paired[i:(j+1)]) / ((j+1-i))\n",
    "            if tmp_rate < rate_boundary:\n",
    "                last_j = j - 1\n",
    "                break\n",
    "            \n",
    "            if j+1-i > 20:\n",
    "                last_j = j - 1\n",
    "                break\n",
    "\n",
    "            j += 1\n",
    "\n",
    "        if last_j == 0: last_j = old_img_num - 1\n",
    "\n",
    "        img_list_ele = [i, last_j]\n",
    "        img_list.append(img_list_ele)\n",
    "        \n",
    "        i = j\n",
    "\n",
    "    if DEBUG: print(\"img_list is \\n\",img_list, \"\\n\", \"len is\", len(img_list))\n",
    "    total_group += len(img_list)\n",
    "    assert False\n",
    "\n",
    "    for idx, img_list_ele in enumerate(img_list):\n",
    "        file_name = img_group_idx\n",
    "        img_group_idx += 1\n",
    "        file_path = Path(dest_all_path, str(file_name))\n",
    "        Path.mkdir(file_path, exist_ok=True)\n",
    "\n",
    "        img_num = (img_list_ele[1] + 1 - img_list_ele[0])\n",
    "\n",
    "        # generate img\n",
    "        for idx, old_img_id in enumerate(range(img_list_ele[0], img_list_ele[1] + 1)):\n",
    "            old_img_name = subtitle_img_json[old_img_id]['img_id'] + \".jpg\"\n",
    "            old_img_path = Path(img_root_path, tt_id, old_img_name)\n",
    "            new_img_name = f'{file_name}_{idx}.jpg'\n",
    "            new_img_path = Path(file_path, new_img_name)\n",
    "            shutil.copyfile(old_img_path, new_img_path)\n",
    "\n",
    "        # generate and save subtitle.json\n",
    "        new_subtitle_json = [[] for i in range(img_num)]\n",
    "        for img_id_idx, img_id in enumerate(range(img_list_ele[0], img_list_ele[1] + 1)):\n",
    "            new_subtitle_json[img_id_idx] = subtitle_img_json[img_id][\"sentence\"]\n",
    "\n",
    "        new_subtitle_file_path = Path(file_path, \"subtitle.json\")\n",
    "        with open(new_subtitle_file_path, 'w') as f_new_subtitle_file:\n",
    "            json.dump(new_subtitle_json, f_new_subtitle_file, indent=2)\n",
    "        \n",
    "        # generate and save info.json\n",
    "        info_json = {}\n",
    "        info_json[\"tt_id\"] = tt_id\n",
    "        info_json[\"img_num\"] = img_num\n",
    "        info_json[\"img_id\"] = [idx for idx in range(img_num)]\n",
    "        info_json[\"shot_id\"] = []\n",
    "        info_json[\"scene_id\"] = []\n",
    "        for img_id in range(img_list_ele[0], img_list_ele[1] + 1):\n",
    "            img_name = subtitle_img_json[img_id][\"img_id\"]\n",
    "            shot_id = int(first.search(img_name).group(0))\n",
    "            info_json[\"shot_id\"].append(shot_id)\n",
    "            scene_id = shot_json[shot_id][\"scene_id\"]\n",
    "            info_json[\"scene_id\"].append(scene_id)\n",
    "\n",
    "\n",
    "        info_json_path = Path(file_path, \"info.json\")\n",
    "        with open(info_json_path, 'w') as f_info_json:\n",
    "            json.dump(info_json, f_info_json, indent=2)"
   ]
  },
  {
   "cell_type": "code",
   "execution_count": 57,
   "metadata": {},
   "outputs": [
    {
     "name": "stdout",
     "output_type": "stream",
     "text": [
      "0 data have 0 shot, 0 data have 0 scene\n",
      "0 data have 1 shot, 6833 data have 1 scene\n",
      "0 data have 2 shot, 1975 data have 2 scene\n",
      "0 data have 3 shot, 722 data have 3 scene\n",
      "390 data have 4 shot, 282 data have 4 scene\n",
      "1304 data have 5 shot, 113 data have 5 scene\n",
      "1732 data have 6 shot, 52 data have 6 scene\n",
      "1647 data have 7 shot, 24 data have 7 scene\n",
      "1288 data have 8 shot, 10 data have 8 scene\n",
      "937 data have 9 shot, 8 data have 9 scene\n",
      "767 data have 10 shot, 5 data have 10 scene\n",
      "626 data have 11 shot, 2 data have 11 scene\n",
      "457 data have 12 shot, 1 data have 12 scene\n",
      "326 data have 13 shot, 1 data have 13 scene\n",
      "245 data have 14 shot, 2 data have 14 scene\n",
      "169 data have 15 shot, 1 data have 15 scene\n",
      "74 data have 16 shot, 0 data have 16 scene\n",
      "48 data have 17 shot, 0 data have 17 scene\n",
      "17 data have 18 shot, 0 data have 18 scene\n",
      "4 data have 19 shot, 0 data have 19 scene\n"
     ]
    }
   ],
   "source": [
    "# statistic\n",
    "shot_sum_list = [0 for i in range(20)]\n",
    "scene_sum_list = [0 for i in range(20)]\n",
    "for id_path in dest_all_path.iterdir():\n",
    "    info_path = Path(id_path, \"info.json\")\n",
    "    with open(info_path, 'r') as f_info:\n",
    "        info_json = json.load(f_info)\n",
    "    shot_num = len(set(info_json['shot_id']))\n",
    "    scene_num = len(set(info_json['scene_id']))\n",
    "    shot_sum_list[shot_num] += 1\n",
    "    scene_sum_list[scene_num] += 1\n",
    "\n",
    "for i in range(20):\n",
    "    print(f'{shot_sum_list[i]} data have {i} shot, {scene_sum_list[i]} data have {i} scene')\n",
    "\n"
   ]
  }
 ],
 "metadata": {
  "kernelspec": {
   "display_name": "VU",
   "language": "python",
   "name": "python3"
  },
  "language_info": {
   "codemirror_mode": {
    "name": "ipython",
    "version": 3
   },
   "file_extension": ".py",
   "mimetype": "text/x-python",
   "name": "python",
   "nbconvert_exporter": "python",
   "pygments_lexer": "ipython3",
   "version": "3.10.6"
  },
  "orig_nbformat": 4,
  "vscode": {
   "interpreter": {
    "hash": "5afd70db720be3800db2de41727453e3061ee2e6ab9dd2afe0b69a2412604e4c"
   }
  }
 },
 "nbformat": 4,
 "nbformat_minor": 2
}
