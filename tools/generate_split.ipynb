{
 "cells": [
  {
   "cell_type": "code",
   "execution_count": 1,
   "metadata": {},
   "outputs": [],
   "source": [
    "import shutil\n",
    "import sys\n",
    "import os\n",
    "from pathlib import Path\n",
    "import json\n",
    "import re\n",
    "import random"
   ]
  },
  {
   "cell_type": "code",
   "execution_count": 2,
   "metadata": {},
   "outputs": [],
   "source": [
    "root_path = Path('/home/jianghui/dataset/VideoReorder-MovieNet/')\n",
    "all_path = Path(root_path, 'all')\n",
    "train_path = Path(root_path, 'train')\n",
    "val_path = Path(root_path, 'val')\n",
    "test_in_domain_path = Path(root_path, 'test_in_domain')\n",
    "test_out_domain_path = Path(root_path, 'test_out_domain')\n",
    "human_path = Path(root_path, 'human_behavior/')\n",
    "human_in_path = Path(root_path, 'human_behavior/','in_domain')\n",
    "human_out_path = Path(root_path, 'human_behavior/','out_domain')\n"
   ]
  },
  {
   "cell_type": "code",
   "execution_count": 13,
   "metadata": {},
   "outputs": [],
   "source": [
    "# add info_reordered.json for all/\n",
    "for group_path in all_path.iterdir():\n",
    "    \n",
    "    group_id = int(group_path.stem)\n",
    "    with open(Path(group_path, \"info.json\"), 'r') as f_info:\n",
    "        info_json = json.load(f_info)\n",
    "    \n",
    "    shuffled_info_json = info_json\n",
    "\n",
    "    random.seed(group_id)\n",
    "    random.shuffle(shuffled_info_json['img_id'])\n",
    "\n",
    "    random.seed(group_id)\n",
    "    random.shuffle(shuffled_info_json['shot_id'])\n",
    "\n",
    "    random.seed(group_id)\n",
    "    random.shuffle(shuffled_info_json['scene_id'])\n",
    "\n",
    "    with open(Path(group_path, \"info_shuffled.json\"), 'w') as f_info_shuffled:\n",
    "        json.dump(shuffled_info_json, f_info_shuffled, indent=2)    "
   ]
  },
  {
   "cell_type": "code",
   "execution_count": 15,
   "metadata": {},
   "outputs": [],
   "source": [
    "# split test_in_domain\n",
    "for group_dir in all_path.iterdir():\n",
    "    if int(group_dir.stem) >= 8835:\n",
    "        shutil.copytree(group_dir, Path(test_out_domain_path, group_dir.stem))"
   ]
  },
  {
   "cell_type": "code",
   "execution_count": 28,
   "metadata": {},
   "outputs": [],
   "source": [
    "# split test_out_domain, train, val\n",
    "i = 0\n",
    "train_list = []\n",
    "val_list = []\n",
    "test_in_domain_list = []\n",
    "while i < 8835:\n",
    "    src_path = Path(all_path, str(i))\n",
    "    if i % 5 == 0:\n",
    "        if i % 15 == 0: \n",
    "            des_path = Path(val_path, str(i))\n",
    "            val_list.append(i)\n",
    "        else:\n",
    "            des_path = Path(test_in_domain_path, str(i))\n",
    "            test_in_domain_list.append(i)\n",
    "    else:\n",
    "        des_path = Path(train_path, str(i))\n",
    "        train_list.append(i)\n",
    "    # shutil.copytree(src_path, des_path)\n",
    "    i += 1\n",
    "\n",
    "clip_split_json = {\n",
    "    \"train\" : train_list,\n",
    "    \"val\" : val_list,\n",
    "    \"test_in_domain\" : test_in_domain_list,\n",
    "    \"test_out_domain\" : [i for i in range(8835, 10031)]\n",
    "}\n",
    "\n",
    "with open(Path(root_path, 'clip_id.json'), 'w') as f:\n",
    "    json.dump(clip_split_json, f, indent=2)\n"
   ]
  },
  {
   "cell_type": "code",
   "execution_count": 30,
   "metadata": {},
   "outputs": [],
   "source": [
    "# split human out domain set\n",
    "clip_split_json[\"human_behavior_out_domain\"] = []\n",
    "tmp = []\n",
    "for idx, clip_id in enumerate(clip_split_json[\"test_out_domain\"]):\n",
    "    if (idx % 12 == 0):\n",
    "        src_path = Path(test_out_domain_path, str(clip_id))\n",
    "        des_path = Path(human_out_path, str(clip_id))\n",
    "        # shutil.copytree(src_path, des_path)\n",
    "        tmp.append(clip_id)\n",
    "clip_split_json[\"human_behavior_out_domain\"] = tmp"
   ]
  },
  {
   "cell_type": "code",
   "execution_count": 31,
   "metadata": {},
   "outputs": [],
   "source": [
    "# split human in domain set\n",
    "clip_split_json[\"human_behavior_in_domain\"] = []\n",
    "for i in range(100):\n",
    "    clip_id = clip_split_json[\"test_in_domain\"][round(i * 11.78)]\n",
    "    src_path = Path(test_in_domain_path, str(clip_id))\n",
    "    des_path = Path(human_in_path, str(clip_id))\n",
    "    clip_split_json[\"human_behavior_in_domain\"].append(clip_id)\n",
    "    shutil.copytree(src_path, des_path)\n",
    "\n",
    "with open(Path(root_path, 'clip_id.json'), 'w') as f:\n",
    "    json.dump(clip_split_json, f, indent=2)"
   ]
  },
  {
   "cell_type": "code",
   "execution_count": 33,
   "metadata": {},
   "outputs": [],
   "source": [
    "human_clip_id = {\n",
    "    \"in_domain\" : clip_split_json[\"human_behavior_in_domain\"],\n",
    "    \"out_domain\" : clip_split_json[\"human_behavior_out_domain\"]\n",
    "}\n",
    "\n",
    "with open(Path(human_path, 'clip_id.json'), 'w') as f:\n",
    "    json.dump(human_clip_id, f, indent=2)"
   ]
  },
  {
   "cell_type": "code",
   "execution_count": 9,
   "metadata": {},
   "outputs": [],
   "source": [
    "shot_sum_list = [[0, 0, 0] for i in range(20)]\n",
    "scene_sum_list = [[0, 0, 0] for i in range(20)]"
   ]
  },
  {
   "cell_type": "code",
   "execution_count": 12,
   "metadata": {},
   "outputs": [
    {
     "name": "stdout",
     "output_type": "stream",
     "text": [
      "0/0 | 0/0  | 0/0 |\n",
      "0/381 | 0/824  | 0/843 |\n",
      "0/136 | 0/216  | 0/205 |\n",
      "0/44 | 0/84  | 0/76 |\n",
      "19/19 | 52/27  | 38/33 |\n",
      "75/8 | 137/10  | 146/16 |\n",
      "112/1 | 219/7  | 221/13 |\n",
      "90/0 | 182/6  | 211/4 |\n",
      "82/0 | 134/1  | 172/0 |\n",
      "59/0 | 113/2  | 112/2 |\n",
      "38/0 | 85/1  | 82/2 |\n",
      "37/0 | 68/0  | 74/0 |\n",
      "28/0 | 56/0  | 38/1 |\n",
      "21/0 | 48/0  | 33/0 |\n",
      "17/0 | 30/0  | 28/1 |\n",
      "9/0 | 26/0  | 20/0 |\n",
      "1/0 | 13/0  | 12/0 |\n",
      "0/0 | 11/0  | 8/0 |\n",
      "1/0 | 4/0  | 1/0 |\n",
      "0/0 | 0/0  | 0/0 |\n"
     ]
    }
   ],
   "source": [
    "# statistic \n",
    "src_path = test_out_domain_path\n",
    "idx = 2\n",
    "\n",
    "for dir in src_path.iterdir():\n",
    "    # read info\n",
    "    with open(Path(dir, 'info.json'), 'r') as f:\n",
    "        info_json = json.load(f)\n",
    "    \n",
    "    # read shot and list\n",
    "    shot_sum = len(set(info_json[\"shot_id\"]))\n",
    "    scene_sum = len(set(info_json[\"scene_id\"]))\n",
    "    shot_sum_list[shot_sum][idx] += 1\n",
    "    scene_sum_list[scene_sum][idx] += 1\n",
    "\n",
    "for i, j in zip(shot_sum_list, scene_sum_list):\n",
    "    print(f'{i[0]}/{j[0]} | {i[1]}/{j[1]}  | {i[2]}/{j[2]} |')\n"
   ]
  }
 ],
 "metadata": {
  "kernelspec": {
   "display_name": "movienet",
   "language": "python",
   "name": "python3"
  },
  "language_info": {
   "codemirror_mode": {
    "name": "ipython",
    "version": 3
   },
   "file_extension": ".py",
   "mimetype": "text/x-python",
   "name": "python",
   "nbconvert_exporter": "python",
   "pygments_lexer": "ipython3",
   "version": "3.8.13"
  },
  "orig_nbformat": 4,
  "vscode": {
   "interpreter": {
    "hash": "b6e7c01e85f7366896226dec3cdcedca884955a8f6a509dddcc2f4c522e8d250"
   }
  }
 },
 "nbformat": 4,
 "nbformat_minor": 2
}
